{
 "cells": [
  {
   "cell_type": "markdown",
   "metadata": {},
   "source": [
    "### Single Inheritance"
   ]
  },
  {
   "cell_type": "code",
   "execution_count": 3,
   "metadata": {},
   "outputs": [],
   "source": [
    "class Father:\n",
    "    father_name = \"Alok Jangid\"\n",
    "    father_bank_balance = 95000\n",
    "    father_age = 53\n",
    "\n",
    "class Son(Father):   # inheritance\n",
    "    son_name = \"Harshit Jangid\"\n",
    "    son_age = 22"
   ]
  },
  {
   "cell_type": "code",
   "execution_count": 4,
   "metadata": {},
   "outputs": [],
   "source": [
    "obj_father = Father()\n",
    "obj_son = Son()"
   ]
  },
  {
   "cell_type": "code",
   "execution_count": 6,
   "metadata": {},
   "outputs": [
    {
     "data": {
      "text/plain": [
       "'Alok Jangid'"
      ]
     },
     "execution_count": 6,
     "metadata": {},
     "output_type": "execute_result"
    }
   ],
   "source": [
    "obj_son.father_name"
   ]
  },
  {
   "cell_type": "code",
   "execution_count": 7,
   "metadata": {},
   "outputs": [],
   "source": [
    "class Father:\n",
    "    father_name = \"Alok Jangid\"\n",
    "    father_bank_balance = 95000\n",
    "    father_age = 53\n",
    "\n",
    "    @classmethod\n",
    "    def display(cls):\n",
    "        print(\"father name is : \", cls.father_name)\n",
    "        print(\"father bank balance is : \", cls.father_bank_balance)\n",
    "        print(\"father age is : \", cls.father_age)\n",
    "\n",
    "class Son(Father):   # inheritance\n",
    "    son_name = \"Harshit Jangid\"\n",
    "    son_age = 22"
   ]
  },
  {
   "cell_type": "code",
   "execution_count": 8,
   "metadata": {},
   "outputs": [
    {
     "name": "stdout",
     "output_type": "stream",
     "text": [
      "father name is :  Alok Jangid\n",
      "father bank balance is :  95000\n",
      "father age is :  53\n"
     ]
    }
   ],
   "source": [
    "obj_son = Son()\n",
    "obj_son.display()"
   ]
  },
  {
   "cell_type": "markdown",
   "metadata": {},
   "source": [
    "#### constructor in super class"
   ]
  },
  {
   "cell_type": "code",
   "execution_count": 9,
   "metadata": {},
   "outputs": [],
   "source": [
    "class Father:\n",
    "    father_name = \"Alok Jangid\"\n",
    "    father_bank_balance = 95000\n",
    "    father_age = 53\n",
    "\n",
    "    def __init__(self, city, college_name):\n",
    "        self.father_city = city\n",
    "        self.father_college = college_name\n",
    "        print(\"father class constructor executed\")\n",
    "\n",
    "    @classmethod\n",
    "    def display(cls):\n",
    "        print(\"father name is : \", cls.father_name)\n",
    "        print(\"father bank balance is : \", cls.father_bank_balance)\n",
    "        print(\"father age is : \", cls.father_age)\n",
    "\n",
    "class Son(Father):   # inheritance\n",
    "    son_name = \"Harshit Jangid\"\n",
    "    son_age = 22"
   ]
  },
  {
   "cell_type": "code",
   "execution_count": 10,
   "metadata": {},
   "outputs": [
    {
     "name": "stdout",
     "output_type": "stream",
     "text": [
      "father class constructor executed\n"
     ]
    }
   ],
   "source": [
    "obj_son = Son(city=\"Bikaner\", college_name=\"MGSU\")"
   ]
  },
  {
   "cell_type": "code",
   "execution_count": 11,
   "metadata": {},
   "outputs": [
    {
     "data": {
      "text/plain": [
       "'Bikaner'"
      ]
     },
     "execution_count": 11,
     "metadata": {},
     "output_type": "execute_result"
    }
   ],
   "source": [
    "obj_son.father_city"
   ]
  },
  {
   "cell_type": "code",
   "execution_count": 12,
   "metadata": {},
   "outputs": [
    {
     "data": {
      "text/plain": [
       "'MGSU'"
      ]
     },
     "execution_count": 12,
     "metadata": {},
     "output_type": "execute_result"
    }
   ],
   "source": [
    "obj_son.father_college"
   ]
  },
  {
   "cell_type": "code",
   "execution_count": 13,
   "metadata": {},
   "outputs": [
    {
     "data": {
      "text/plain": [
       "'Harshit Jangid'"
      ]
     },
     "execution_count": 13,
     "metadata": {},
     "output_type": "execute_result"
    }
   ],
   "source": [
    "obj_son.son_name"
   ]
  },
  {
   "cell_type": "code",
   "execution_count": 14,
   "metadata": {},
   "outputs": [],
   "source": [
    "class Father:\n",
    "    father_name = \"Alok Jangid\"\n",
    "    father_bank_balance = 95000\n",
    "    father_age = 53\n",
    "\n",
    "    def __init__(self, city, college_name):\n",
    "        self.father_city = city\n",
    "        self.father_college = college_name\n",
    "        print(\"father class constructor executed\")\n",
    "\n",
    "    @classmethod\n",
    "    def display(cls):\n",
    "        print(\"father name is : \", cls.father_name)\n",
    "        print(\"father bank balance is : \", cls.father_bank_balance)\n",
    "        print(\"father age is : \", cls.father_age)\n",
    "\n",
    "class Son(Father):   # inheritance\n",
    "    son_name = \"Harshit Jangid\"\n",
    "    son_age = 22\n",
    "\n",
    "    def __init__(self, student_college_city, student_college_name):\n",
    "        self.student_college_city = student_college_city\n",
    "        self.student_college_name = student_college_name\n",
    "        print(\"son class constructor executed\")\n",
    "        super().display()\n",
    "        super().__init__(city='bikaner', college_name='SJGC')"
   ]
  },
  {
   "cell_type": "code",
   "execution_count": 15,
   "metadata": {},
   "outputs": [
    {
     "name": "stdout",
     "output_type": "stream",
     "text": [
      "son class constructor executed\n",
      "father name is :  Alok Jangid\n",
      "father bank balance is :  95000\n",
      "father age is :  53\n",
      "father class constructor executed\n"
     ]
    }
   ],
   "source": [
    "obj_son = Son(student_college_city='Bikaner',student_college_name='SJGC')"
   ]
  },
  {
   "cell_type": "code",
   "execution_count": 16,
   "metadata": {},
   "outputs": [
    {
     "data": {
      "text/plain": [
       "'bikaner'"
      ]
     },
     "execution_count": 16,
     "metadata": {},
     "output_type": "execute_result"
    }
   ],
   "source": [
    "obj_son.father_city"
   ]
  },
  {
   "cell_type": "code",
   "execution_count": 17,
   "metadata": {},
   "outputs": [
    {
     "data": {
      "text/plain": [
       "'SJGC'"
      ]
     },
     "execution_count": 17,
     "metadata": {},
     "output_type": "execute_result"
    }
   ],
   "source": [
    "obj_son.student_college_name"
   ]
  },
  {
   "cell_type": "code",
   "execution_count": 22,
   "metadata": {},
   "outputs": [],
   "source": [
    "class A:\n",
    "    A_name = \"Ashok\"\n",
    "    A_age = 65\n",
    "\n",
    "    def __init__(self, college_name, college_city):\n",
    "        self.college_name = college_name\n",
    "        self.college_city = college_city\n",
    "        print(\"A constructor is executed\")\n",
    "\n",
    "class B(A):\n",
    "    B_name = \"monty\"\n",
    "    B_age = 35\n",
    "\n",
    "    def __init__(self, son_college_name, son_college_city):\n",
    "        self.son_college_name = son_college_name\n",
    "        self.son_college_city = son_college_city\n",
    "        print(\"B constructor is executed\")\n",
    "        super().__init__(college_name='ECB',college_city='Bkn')\n",
    "        "
   ]
  },
  {
   "cell_type": "code",
   "execution_count": 23,
   "metadata": {},
   "outputs": [
    {
     "name": "stdout",
     "output_type": "stream",
     "text": [
      "B constructor is executed\n",
      "A constructor is executed\n"
     ]
    }
   ],
   "source": [
    "obj_b = B(son_college_name='SJC',son_college_city='BKN')"
   ]
  },
  {
   "cell_type": "code",
   "execution_count": 24,
   "metadata": {},
   "outputs": [
    {
     "data": {
      "text/plain": [
       "'Ashok'"
      ]
     },
     "execution_count": 24,
     "metadata": {},
     "output_type": "execute_result"
    }
   ],
   "source": [
    "obj_b.A_name"
   ]
  },
  {
   "cell_type": "code",
   "execution_count": 25,
   "metadata": {},
   "outputs": [
    {
     "data": {
      "text/plain": [
       "'ECB'"
      ]
     },
     "execution_count": 25,
     "metadata": {},
     "output_type": "execute_result"
    }
   ],
   "source": [
    "obj_b.college_name"
   ]
  },
  {
   "cell_type": "code",
   "execution_count": 26,
   "metadata": {},
   "outputs": [
    {
     "data": {
      "text/plain": [
       "'monty'"
      ]
     },
     "execution_count": 26,
     "metadata": {},
     "output_type": "execute_result"
    }
   ],
   "source": [
    "obj_b.B_name"
   ]
  },
  {
   "cell_type": "code",
   "execution_count": 27,
   "metadata": {},
   "outputs": [
    {
     "data": {
      "text/plain": [
       "'BKN'"
      ]
     },
     "execution_count": 27,
     "metadata": {},
     "output_type": "execute_result"
    }
   ],
   "source": [
    "obj_b.son_college_city"
   ]
  },
  {
   "cell_type": "markdown",
   "metadata": {},
   "source": [
    "## Multi-level Inheritance"
   ]
  },
  {
   "cell_type": "markdown",
   "metadata": {},
   "source": [
    "#### Multi-level Inheritance without constructor"
   ]
  },
  {
   "cell_type": "code",
   "execution_count": 28,
   "metadata": {},
   "outputs": [],
   "source": [
    "class Father(object):\n",
    "    father_name = \"Ashok Jangid\"\n",
    "\n",
    "class Son(Father):\n",
    "    son_name = \"Anil Jangid\"\n",
    "\n",
    "class Grandson(Son):\n",
    "    grandson_name = \"Soumil Jangid\""
   ]
  },
  {
   "cell_type": "code",
   "execution_count": 29,
   "metadata": {},
   "outputs": [],
   "source": [
    "grand_obj = Grandson()"
   ]
  },
  {
   "cell_type": "code",
   "execution_count": 30,
   "metadata": {},
   "outputs": [
    {
     "data": {
      "text/plain": [
       "'Ashok Jangid'"
      ]
     },
     "execution_count": 30,
     "metadata": {},
     "output_type": "execute_result"
    }
   ],
   "source": [
    "grand_obj.father_name"
   ]
  },
  {
   "cell_type": "markdown",
   "metadata": {},
   "source": [
    "#### Multi-level Inheritance with constructor"
   ]
  },
  {
   "cell_type": "code",
   "execution_count": 4,
   "metadata": {},
   "outputs": [],
   "source": [
    "class Father:\n",
    "    father_name = \"Ashok Jangid\"\n",
    "    father_bank_balance = 95000\n",
    "    father_age = 53\n",
    "\n",
    "    def __init__(self, city, college_name):\n",
    "        self.father_city = city\n",
    "        self.father_college = college_name\n",
    "        print(\"father class constructor executed\")\n",
    "\n",
    "    @classmethod\n",
    "    def display(cls):\n",
    "        print(\"father name is : \", cls.father_name)\n",
    "        print(\"father bank balance is : \", cls.father_bank_balance)\n",
    "        print(\"father age is : \", cls.father_age)\n",
    "\n",
    "class Son(Father):   # inheritance\n",
    "    son_name = \"Anil Jangid\"\n",
    "    son_age = 22\n",
    "\n",
    "    def __init__(self, student_college_city, student_college_name):\n",
    "        self.student_college_city = student_college_city\n",
    "        self.student_college_name = student_college_name\n",
    "        print(\"son class constructor executed\")\n",
    "        #super().display()\n",
    "        super().__init__(city='bikaner', college_name='SJGC')\n",
    "\n",
    "class Grandson(Son):\n",
    "    grandson_name = \"soumil jangid\"\n",
    "    grandson_age = 16\n",
    "\n",
    "    def __init__(self, student_school_city, student_school_name):\n",
    "        self.student_school_city = student_school_city\n",
    "        self.student_school_name = student_school_name\n",
    "        print(\"grandson class constructor executed\")\n",
    "        super().__init__(student_school_city, student_school_name)"
   ]
  },
  {
   "cell_type": "code",
   "execution_count": 5,
   "metadata": {},
   "outputs": [
    {
     "name": "stdout",
     "output_type": "stream",
     "text": [
      "grandson class constructor executed\n",
      "son class constructor executed\n",
      "father class constructor executed\n"
     ]
    }
   ],
   "source": [
    "grand_obj = Grandson(student_school_city=\"Bikaner\", student_school_name=\"RSV\")"
   ]
  },
  {
   "cell_type": "code",
   "execution_count": 6,
   "metadata": {},
   "outputs": [
    {
     "data": {
      "text/plain": [
       "'soumil jangid'"
      ]
     },
     "execution_count": 6,
     "metadata": {},
     "output_type": "execute_result"
    }
   ],
   "source": [
    "grand_obj.grandson_name"
   ]
  },
  {
   "cell_type": "code",
   "execution_count": 7,
   "metadata": {},
   "outputs": [
    {
     "data": {
      "text/plain": [
       "'RSV'"
      ]
     },
     "execution_count": 7,
     "metadata": {},
     "output_type": "execute_result"
    }
   ],
   "source": [
    "grand_obj.student_school_name"
   ]
  },
  {
   "cell_type": "code",
   "execution_count": 8,
   "metadata": {},
   "outputs": [
    {
     "data": {
      "text/plain": [
       "'Ashok Jangid'"
      ]
     },
     "execution_count": 8,
     "metadata": {},
     "output_type": "execute_result"
    }
   ],
   "source": [
    "grand_obj.father_name"
   ]
  },
  {
   "cell_type": "code",
   "execution_count": 9,
   "metadata": {},
   "outputs": [
    {
     "data": {
      "text/plain": [
       "'Anil Jangid'"
      ]
     },
     "execution_count": 9,
     "metadata": {},
     "output_type": "execute_result"
    }
   ],
   "source": [
    "grand_obj.son_name"
   ]
  },
  {
   "cell_type": "markdown",
   "metadata": {},
   "source": [
    "### Multiple Inheritance"
   ]
  },
  {
   "cell_type": "markdown",
   "metadata": {},
   "source": [
    "#### without constructor"
   ]
  },
  {
   "cell_type": "code",
   "execution_count": 1,
   "metadata": {},
   "outputs": [],
   "source": [
    "class A:\n",
    "    a_name = \"a.com\"\n",
    "class B:\n",
    "    b_name = \"b.com\"\n",
    "class C(A,B):\n",
    "    c_name = \"c.com\""
   ]
  },
  {
   "cell_type": "code",
   "execution_count": 2,
   "metadata": {},
   "outputs": [],
   "source": [
    "obj_c = C()"
   ]
  },
  {
   "cell_type": "code",
   "execution_count": 3,
   "metadata": {},
   "outputs": [
    {
     "data": {
      "text/plain": [
       "'a.com'"
      ]
     },
     "execution_count": 3,
     "metadata": {},
     "output_type": "execute_result"
    }
   ],
   "source": [
    "obj_c.a_name"
   ]
  },
  {
   "cell_type": "code",
   "execution_count": 4,
   "metadata": {},
   "outputs": [
    {
     "data": {
      "text/plain": [
       "'b.com'"
      ]
     },
     "execution_count": 4,
     "metadata": {},
     "output_type": "execute_result"
    }
   ],
   "source": [
    "obj_c.b_name"
   ]
  },
  {
   "cell_type": "code",
   "execution_count": 13,
   "metadata": {},
   "outputs": [],
   "source": [
    "class A:\n",
    "    def __init__(self, a_value):\n",
    "        self.a_name = a_value\n",
    "        print(\"A constructor\")\n",
    "class B:\n",
    "    def __init__(self, b_value):\n",
    "        self.b_name = b_value\n",
    "        print(\"B constructor\")\n",
    "class C(A,B):\n",
    "    def __init__(self, c_value):\n",
    "        self.c_name = c_value\n",
    "        super().__init__(a_value=\"a_data\")\n",
    "        print(\"C constructor\")"
   ]
  },
  {
   "cell_type": "code",
   "execution_count": 14,
   "metadata": {},
   "outputs": [
    {
     "name": "stdout",
     "output_type": "stream",
     "text": [
      "A constructor\n",
      "C constructor\n"
     ]
    }
   ],
   "source": [
    "obj_c = C(c_value=\"c_data\")"
   ]
  },
  {
   "cell_type": "code",
   "execution_count": 15,
   "metadata": {},
   "outputs": [
    {
     "data": {
      "text/plain": [
       "'c_data'"
      ]
     },
     "execution_count": 15,
     "metadata": {},
     "output_type": "execute_result"
    }
   ],
   "source": [
    "obj_c.c_name"
   ]
  },
  {
   "cell_type": "code",
   "execution_count": 16,
   "metadata": {},
   "outputs": [
    {
     "data": {
      "text/plain": [
       "'a_data'"
      ]
     },
     "execution_count": 16,
     "metadata": {},
     "output_type": "execute_result"
    }
   ],
   "source": [
    "obj_c.a_name"
   ]
  },
  {
   "cell_type": "code",
   "execution_count": 17,
   "metadata": {},
   "outputs": [],
   "source": [
    "class A:\n",
    "    def __init__(self, a_value):\n",
    "        self.a_name = a_value\n",
    "        print(\"A constructor\")\n",
    "class B:\n",
    "    def __init__(self, b_value):\n",
    "        self.b_name = b_value\n",
    "        print(\"B constructor\")\n",
    "class C(A,B):\n",
    "    def __init__(self, c_value):\n",
    "        self.c_name = c_value\n",
    "        super().__init__(a_value=\"a_data\")\n",
    "        super().__init__(b_value=\"b_data\")\n",
    "        print(\"C constructor\")"
   ]
  },
  {
   "cell_type": "code",
   "execution_count": 18,
   "metadata": {},
   "outputs": [
    {
     "name": "stdout",
     "output_type": "stream",
     "text": [
      "A constructor\n"
     ]
    },
    {
     "ename": "TypeError",
     "evalue": "A.__init__() got an unexpected keyword argument 'b_value'. Did you mean 'a_value'?",
     "output_type": "error",
     "traceback": [
      "\u001b[1;31m---------------------------------------------------------------------------\u001b[0m",
      "\u001b[1;31mTypeError\u001b[0m                                 Traceback (most recent call last)",
      "Cell \u001b[1;32mIn[18], line 1\u001b[0m\n\u001b[1;32m----> 1\u001b[0m obj_c \u001b[38;5;241m=\u001b[39m \u001b[43mC\u001b[49m\u001b[43m(\u001b[49m\u001b[43mc_value\u001b[49m\u001b[38;5;241;43m=\u001b[39;49m\u001b[38;5;124;43m\"\u001b[39;49m\u001b[38;5;124;43mc_data\u001b[39;49m\u001b[38;5;124;43m\"\u001b[39;49m\u001b[43m)\u001b[49m\n",
      "Cell \u001b[1;32mIn[17], line 13\u001b[0m, in \u001b[0;36mC.__init__\u001b[1;34m(self, c_value)\u001b[0m\n\u001b[0;32m     11\u001b[0m \u001b[38;5;28mself\u001b[39m\u001b[38;5;241m.\u001b[39mc_name \u001b[38;5;241m=\u001b[39m c_value\n\u001b[0;32m     12\u001b[0m \u001b[38;5;28msuper\u001b[39m()\u001b[38;5;241m.\u001b[39m\u001b[38;5;21m__init__\u001b[39m(a_value\u001b[38;5;241m=\u001b[39m\u001b[38;5;124m\"\u001b[39m\u001b[38;5;124ma_data\u001b[39m\u001b[38;5;124m\"\u001b[39m)\n\u001b[1;32m---> 13\u001b[0m \u001b[38;5;28;43msuper\u001b[39;49m\u001b[43m(\u001b[49m\u001b[43m)\u001b[49m\u001b[38;5;241;43m.\u001b[39;49m\u001b[38;5;21;43m__init__\u001b[39;49m\u001b[43m(\u001b[49m\u001b[43mb_value\u001b[49m\u001b[38;5;241;43m=\u001b[39;49m\u001b[38;5;124;43m\"\u001b[39;49m\u001b[38;5;124;43mb_data\u001b[39;49m\u001b[38;5;124;43m\"\u001b[39;49m\u001b[43m)\u001b[49m\n\u001b[0;32m     14\u001b[0m \u001b[38;5;28mprint\u001b[39m(\u001b[38;5;124m\"\u001b[39m\u001b[38;5;124mC constructor\u001b[39m\u001b[38;5;124m\"\u001b[39m)\n",
      "\u001b[1;31mTypeError\u001b[0m: A.__init__() got an unexpected keyword argument 'b_value'. Did you mean 'a_value'?"
     ]
    }
   ],
   "source": [
    "obj_c = C(c_value=\"c_data\")"
   ]
  },
  {
   "cell_type": "code",
   "execution_count": 19,
   "metadata": {},
   "outputs": [],
   "source": [
    "class A:\n",
    "    def __init__(self, a_value):\n",
    "        self.a_name = a_value\n",
    "        print(\"A constructor\")\n",
    "class B:\n",
    "    def __init__(self, b_value):\n",
    "        self.b_name = b_value\n",
    "        print(\"B constructor\")\n",
    "class C(A,B):\n",
    "    def __init__(self, c_value):\n",
    "        self.c_name = c_value\n",
    "        A.__init__(self,a_value=\"a_data\")\n",
    "        B.__init__(self,b_value=\"b_data\")\n",
    "        print(\"C constructor\")"
   ]
  },
  {
   "cell_type": "code",
   "execution_count": 20,
   "metadata": {},
   "outputs": [
    {
     "name": "stdout",
     "output_type": "stream",
     "text": [
      "A constructor\n",
      "B constructor\n",
      "C constructor\n"
     ]
    }
   ],
   "source": [
    "obj_c = C(c_value=\"c_data\")"
   ]
  },
  {
   "cell_type": "code",
   "execution_count": null,
   "metadata": {},
   "outputs": [],
   "source": [
    "MRO = Method Resolution Order"
   ]
  },
  {
   "cell_type": "code",
   "execution_count": 21,
   "metadata": {},
   "outputs": [
    {
     "data": {
      "text/plain": [
       "[__main__.C, __main__.A, __main__.B, object]"
      ]
     },
     "execution_count": 21,
     "metadata": {},
     "output_type": "execute_result"
    }
   ],
   "source": [
    "C.mro()"
   ]
  },
  {
   "cell_type": "markdown",
   "metadata": {},
   "source": [
    "### Encapsulation"
   ]
  },
  {
   "cell_type": "code",
   "execution_count": 57,
   "metadata": {},
   "outputs": [],
   "source": [
    "class Company:\n",
    "    def __init__(self):\n",
    "        self.finance_team_members = 25   # puublic variable\n",
    "        self.finance_manager = \"Rohit\"\n",
    "        self.finance_budget = 25000\n",
    "\n",
    "        self.sales_team_members = 25\n",
    "        self.sales_manager = \"Nikki\"\n",
    "        self.sales_budget = 36000\n",
    "\n",
    "        ## protected variables  (with in class / subclass)\n",
    "        self._account_team_members = 25\n",
    "        self._account_manager = \"radhey\"\n",
    "        self._account_budegt = 50000\n",
    "\n",
    "        ## private variable (with in class)\n",
    "        self.__developer_team_memebers = 25\n",
    "        self.__developer_manager = \"govind\"\n",
    "        self.__developer_budget = 45000\n",
    "\n",
    "        \n",
    "        \n",
    "    def account_section(self):\n",
    "        print(self._account_manager)\n",
    "        print(self._account_team_members)\n",
    "        print(self._account_budegt)\n",
    "    \n",
    "\n",
    "    def sales_section(self):\n",
    "        pass\n",
    "\n",
    "    \n",
    "\n",
    "    def __developer_section(self):\n",
    "        print(self.__developer_team_memebers)\n",
    "        print(self.__developer_manager)\n",
    "        print(self.__developer_budget)\n",
    "        print(self._account_manager)\n",
    "\n",
    "    def finance_section(self):\n",
    "        self.__developer_section()\n",
    "\n",
    "\n",
    "class Subcompany(Company):\n",
    "    pass\n"
   ]
  },
  {
   "cell_type": "code",
   "execution_count": 58,
   "metadata": {},
   "outputs": [
    {
     "name": "stdout",
     "output_type": "stream",
     "text": [
      "25\n",
      "govind\n",
      "45000\n",
      "radhey\n"
     ]
    }
   ],
   "source": [
    "anyname = Company()\n",
    "anyname.finance_section()"
   ]
  },
  {
   "cell_type": "code",
   "execution_count": 35,
   "metadata": {},
   "outputs": [],
   "source": [
    "obj = Subcompany()"
   ]
  },
  {
   "cell_type": "code",
   "execution_count": 38,
   "metadata": {},
   "outputs": [
    {
     "ename": "AttributeError",
     "evalue": "'Subcompany' object has no attribute '_developer_team_memebers'",
     "output_type": "error",
     "traceback": [
      "\u001b[1;31m---------------------------------------------------------------------------\u001b[0m",
      "\u001b[1;31mAttributeError\u001b[0m                            Traceback (most recent call last)",
      "Cell \u001b[1;32mIn[38], line 1\u001b[0m\n\u001b[1;32m----> 1\u001b[0m \u001b[43mobj\u001b[49m\u001b[38;5;241;43m.\u001b[39;49m\u001b[43mfinance_section\u001b[49m\u001b[43m(\u001b[49m\u001b[43m)\u001b[49m\n",
      "Cell \u001b[1;32mIn[37], line 39\u001b[0m, in \u001b[0;36mCompany.finance_section\u001b[1;34m(self)\u001b[0m\n\u001b[0;32m     38\u001b[0m \u001b[38;5;28;01mdef\u001b[39;00m \u001b[38;5;21mfinance_section\u001b[39m(\u001b[38;5;28mself\u001b[39m):\n\u001b[1;32m---> 39\u001b[0m     \u001b[38;5;28;43mself\u001b[39;49m\u001b[38;5;241;43m.\u001b[39;49m\u001b[43m__developer_section\u001b[49m\u001b[43m(\u001b[49m\u001b[43m)\u001b[49m\n",
      "Cell \u001b[1;32mIn[37], line 34\u001b[0m, in \u001b[0;36mCompany.__developer_section\u001b[1;34m(self)\u001b[0m\n\u001b[0;32m     33\u001b[0m \u001b[38;5;28;01mdef\u001b[39;00m \u001b[38;5;21m__developer_section\u001b[39m(\u001b[38;5;28mself\u001b[39m):\n\u001b[1;32m---> 34\u001b[0m     \u001b[38;5;28mprint\u001b[39m(\u001b[38;5;28;43mself\u001b[39;49m\u001b[38;5;241;43m.\u001b[39;49m\u001b[43m_developer_team_memebers\u001b[49m)\n\u001b[0;32m     35\u001b[0m     \u001b[38;5;28mprint\u001b[39m(\u001b[38;5;28mself\u001b[39m\u001b[38;5;241m.\u001b[39m_developer_manager)\n\u001b[0;32m     36\u001b[0m     \u001b[38;5;28mprint\u001b[39m(\u001b[38;5;28mself\u001b[39m\u001b[38;5;241m.\u001b[39m_developer_budget)\n",
      "\u001b[1;31mAttributeError\u001b[0m: 'Subcompany' object has no attribute '_developer_team_memebers'"
     ]
    }
   ],
   "source": [
    "obj.finance_section()"
   ]
  },
  {
   "cell_type": "code",
   "execution_count": 31,
   "metadata": {},
   "outputs": [
    {
     "ename": "AttributeError",
     "evalue": "'Company' object has no attribute '__developer_section'",
     "output_type": "error",
     "traceback": [
      "\u001b[1;31m---------------------------------------------------------------------------\u001b[0m",
      "\u001b[1;31mAttributeError\u001b[0m                            Traceback (most recent call last)",
      "Cell \u001b[1;32mIn[31], line 1\u001b[0m\n\u001b[1;32m----> 1\u001b[0m \u001b[43mobj\u001b[49m\u001b[38;5;241;43m.\u001b[39;49m\u001b[43m__developer_section\u001b[49m()\n",
      "\u001b[1;31mAttributeError\u001b[0m: 'Company' object has no attribute '__developer_section'"
     ]
    }
   ],
   "source": [
    "obj.__developer_section()"
   ]
  },
  {
   "cell_type": "code",
   "execution_count": 22,
   "metadata": {},
   "outputs": [
    {
     "data": {
      "text/plain": [
       "'Rohit'"
      ]
     },
     "execution_count": 22,
     "metadata": {},
     "output_type": "execute_result"
    }
   ],
   "source": [
    "obj.finance_manager"
   ]
  },
  {
   "cell_type": "code",
   "execution_count": 45,
   "metadata": {},
   "outputs": [],
   "source": [
    "obj = Company()"
   ]
  },
  {
   "cell_type": "code",
   "execution_count": 46,
   "metadata": {},
   "outputs": [
    {
     "name": "stdout",
     "output_type": "stream",
     "text": [
      "25\n",
      "govind\n",
      "45000\n"
     ]
    }
   ],
   "source": [
    "obj.finance_section()"
   ]
  },
  {
   "cell_type": "code",
   "execution_count": 42,
   "metadata": {},
   "outputs": [],
   "source": [
    "name = Company()"
   ]
  },
  {
   "cell_type": "code",
   "execution_count": 43,
   "metadata": {},
   "outputs": [
    {
     "ename": "AttributeError",
     "evalue": "'Company' object has no attribute '_developer_team_memebers'",
     "output_type": "error",
     "traceback": [
      "\u001b[1;31m---------------------------------------------------------------------------\u001b[0m",
      "\u001b[1;31mAttributeError\u001b[0m                            Traceback (most recent call last)",
      "Cell \u001b[1;32mIn[43], line 1\u001b[0m\n\u001b[1;32m----> 1\u001b[0m \u001b[43mname\u001b[49m\u001b[38;5;241;43m.\u001b[39;49m\u001b[43mfinance_section\u001b[49m\u001b[43m(\u001b[49m\u001b[43m)\u001b[49m\n",
      "Cell \u001b[1;32mIn[37], line 39\u001b[0m, in \u001b[0;36mCompany.finance_section\u001b[1;34m(self)\u001b[0m\n\u001b[0;32m     38\u001b[0m \u001b[38;5;28;01mdef\u001b[39;00m \u001b[38;5;21mfinance_section\u001b[39m(\u001b[38;5;28mself\u001b[39m):\n\u001b[1;32m---> 39\u001b[0m     \u001b[38;5;28;43mself\u001b[39;49m\u001b[38;5;241;43m.\u001b[39;49m\u001b[43m__developer_section\u001b[49m\u001b[43m(\u001b[49m\u001b[43m)\u001b[49m\n",
      "Cell \u001b[1;32mIn[37], line 34\u001b[0m, in \u001b[0;36mCompany.__developer_section\u001b[1;34m(self)\u001b[0m\n\u001b[0;32m     33\u001b[0m \u001b[38;5;28;01mdef\u001b[39;00m \u001b[38;5;21m__developer_section\u001b[39m(\u001b[38;5;28mself\u001b[39m):\n\u001b[1;32m---> 34\u001b[0m     \u001b[38;5;28mprint\u001b[39m(\u001b[38;5;28;43mself\u001b[39;49m\u001b[38;5;241;43m.\u001b[39;49m\u001b[43m_developer_team_memebers\u001b[49m)\n\u001b[0;32m     35\u001b[0m     \u001b[38;5;28mprint\u001b[39m(\u001b[38;5;28mself\u001b[39m\u001b[38;5;241m.\u001b[39m_developer_manager)\n\u001b[0;32m     36\u001b[0m     \u001b[38;5;28mprint\u001b[39m(\u001b[38;5;28mself\u001b[39m\u001b[38;5;241m.\u001b[39m_developer_budget)\n",
      "\u001b[1;31mAttributeError\u001b[0m: 'Company' object has no attribute '_developer_team_memebers'"
     ]
    }
   ],
   "source": [
    "name.finance_section()"
   ]
  },
  {
   "cell_type": "code",
   "execution_count": 26,
   "metadata": {},
   "outputs": [
    {
     "name": "stdout",
     "output_type": "stream",
     "text": [
      "25\n",
      "govind\n",
      "45000\n"
     ]
    }
   ],
   "source": [
    "obj.developer_section()"
   ]
  },
  {
   "cell_type": "code",
   "execution_count": 29,
   "metadata": {},
   "outputs": [
    {
     "ename": "AttributeError",
     "evalue": "'Company' object has no attribute '__developer_team_memebers'",
     "output_type": "error",
     "traceback": [
      "\u001b[1;31m---------------------------------------------------------------------------\u001b[0m",
      "\u001b[1;31mAttributeError\u001b[0m                            Traceback (most recent call last)",
      "Cell \u001b[1;32mIn[29], line 1\u001b[0m\n\u001b[1;32m----> 1\u001b[0m \u001b[43mobj\u001b[49m\u001b[38;5;241;43m.\u001b[39;49m\u001b[43m__developer_team_memebers\u001b[49m\n",
      "\u001b[1;31mAttributeError\u001b[0m: 'Company' object has no attribute '__developer_team_memebers'"
     ]
    }
   ],
   "source": [
    "obj.__developer_team_memebers"
   ]
  },
  {
   "cell_type": "code",
   "execution_count": 21,
   "metadata": {},
   "outputs": [
    {
     "name": "stdout",
     "output_type": "stream",
     "text": [
      "25\n",
      "govind\n",
      "45000\n"
     ]
    }
   ],
   "source": [
    "obj.developer_section()"
   ]
  },
  {
   "cell_type": "code",
   "execution_count": 14,
   "metadata": {},
   "outputs": [
    {
     "name": "stdout",
     "output_type": "stream",
     "text": [
      "radhey\n",
      "25\n",
      "50000\n"
     ]
    }
   ],
   "source": [
    "obj.account_section()   # we can access protected variable with in class"
   ]
  },
  {
   "cell_type": "code",
   "execution_count": 17,
   "metadata": {},
   "outputs": [
    {
     "data": {
      "text/plain": [
       "'radhey'"
      ]
     },
     "execution_count": 17,
     "metadata": {},
     "output_type": "execute_result"
    }
   ],
   "source": [
    "obj._account_manager"
   ]
  },
  {
   "cell_type": "markdown",
   "metadata": {},
   "source": [
    "### Abstraction"
   ]
  },
  {
   "cell_type": "code",
   "execution_count": 59,
   "metadata": {},
   "outputs": [],
   "source": [
    "def test():..."
   ]
  },
  {
   "cell_type": "code",
   "execution_count": null,
   "metadata": {},
   "outputs": [],
   "source": [
    "ls = [10,20,30,40,50]\n",
    "ls.append()"
   ]
  },
  {
   "cell_type": "code",
   "execution_count": 63,
   "metadata": {},
   "outputs": [],
   "source": [
    "from abc import ABC, abstractmethod\n",
    "class Company(ABC):\n",
    "\n",
    "    @abstractmethod\n",
    "    def display(self):\n",
    "        pass\n",
    "\n",
    "class Subcompany(Company):\n",
    "    def display(self):\n",
    "        print(\"hiii\")"
   ]
  },
  {
   "cell_type": "code",
   "execution_count": 62,
   "metadata": {},
   "outputs": [
    {
     "ename": "TypeError",
     "evalue": "Can't instantiate abstract class Company without an implementation for abstract method 'display'",
     "output_type": "error",
     "traceback": [
      "\u001b[1;31m---------------------------------------------------------------------------\u001b[0m",
      "\u001b[1;31mTypeError\u001b[0m                                 Traceback (most recent call last)",
      "Cell \u001b[1;32mIn[62], line 2\u001b[0m\n\u001b[0;32m      1\u001b[0m \u001b[38;5;66;03m# abstract class object not\u001b[39;00m\n\u001b[1;32m----> 2\u001b[0m obj \u001b[38;5;241m=\u001b[39m \u001b[43mCompany\u001b[49m\u001b[43m(\u001b[49m\u001b[43m)\u001b[49m\n",
      "\u001b[1;31mTypeError\u001b[0m: Can't instantiate abstract class Company without an implementation for abstract method 'display'"
     ]
    }
   ],
   "source": [
    "# abstract class object not\n",
    "obj = Company()"
   ]
  },
  {
   "cell_type": "code",
   "execution_count": 64,
   "metadata": {},
   "outputs": [],
   "source": [
    "obj = Subcompany()"
   ]
  },
  {
   "cell_type": "code",
   "execution_count": 65,
   "metadata": {},
   "outputs": [
    {
     "name": "stdout",
     "output_type": "stream",
     "text": [
      "hiii\n"
     ]
    }
   ],
   "source": [
    "obj.display()"
   ]
  },
  {
   "cell_type": "code",
   "execution_count": null,
   "metadata": {},
   "outputs": [],
   "source": []
  }
 ],
 "metadata": {
  "kernelspec": {
   "display_name": "Python 3",
   "language": "python",
   "name": "python3"
  },
  "language_info": {
   "codemirror_mode": {
    "name": "ipython",
    "version": 3
   },
   "file_extension": ".py",
   "mimetype": "text/x-python",
   "name": "python",
   "nbconvert_exporter": "python",
   "pygments_lexer": "ipython3",
   "version": "3.13.0"
  }
 },
 "nbformat": 4,
 "nbformat_minor": 2
}
