{
 "cells": [
  {
   "cell_type": "markdown",
   "metadata": {},
   "source": [
    "### Object Oriented Programming"
   ]
  },
  {
   "cell_type": "code",
   "execution_count": 8,
   "metadata": {},
   "outputs": [],
   "source": [
    "class Student:\n",
    "    student_name = 'Nikki'\n",
    "    student_city = \"Bikaner\"\n",
    "    student_college = \"Gurukul\""
   ]
  },
  {
   "cell_type": "code",
   "execution_count": 2,
   "metadata": {},
   "outputs": [
    {
     "ename": "NameError",
     "evalue": "name 'student_name' is not defined",
     "output_type": "error",
     "traceback": [
      "\u001b[1;31m---------------------------------------------------------------------------\u001b[0m",
      "\u001b[1;31mNameError\u001b[0m                                 Traceback (most recent call last)",
      "Cell \u001b[1;32mIn[2], line 1\u001b[0m\n\u001b[1;32m----> 1\u001b[0m \u001b[38;5;28mprint\u001b[39m(\u001b[43mstudent_name\u001b[49m)\n",
      "\u001b[1;31mNameError\u001b[0m: name 'student_name' is not defined"
     ]
    }
   ],
   "source": [
    "print(student_name)"
   ]
  },
  {
   "cell_type": "code",
   "execution_count": 9,
   "metadata": {},
   "outputs": [],
   "source": [
    "# object creating (instance) ==> can create n object\n",
    "stu_obj1 = Student()\n",
    "stu_obj2 = Student()\n",
    "stu_obj3 = Student()"
   ]
  },
  {
   "cell_type": "code",
   "execution_count": 10,
   "metadata": {},
   "outputs": [],
   "source": [
    "stu_obj1.student_name = \"Nikita Jangid\"  # update"
   ]
  },
  {
   "cell_type": "code",
   "execution_count": 11,
   "metadata": {},
   "outputs": [
    {
     "data": {
      "text/plain": [
       "'Nikita Jangid'"
      ]
     },
     "execution_count": 11,
     "metadata": {},
     "output_type": "execute_result"
    }
   ],
   "source": [
    "stu_obj1.student_name"
   ]
  },
  {
   "cell_type": "code",
   "execution_count": 4,
   "metadata": {},
   "outputs": [
    {
     "data": {
      "text/plain": [
       "<__main__.Student at 0x20b8ea1cec0>"
      ]
     },
     "execution_count": 4,
     "metadata": {},
     "output_type": "execute_result"
    }
   ],
   "source": [
    "stu_obj  # memory address"
   ]
  },
  {
   "cell_type": "code",
   "execution_count": 7,
   "metadata": {},
   "outputs": [
    {
     "data": {
      "text/plain": [
       "'Nikki'"
      ]
     },
     "execution_count": 7,
     "metadata": {},
     "output_type": "execute_result"
    }
   ],
   "source": [
    "stu_obj.student_name"
   ]
  },
  {
   "cell_type": "code",
   "execution_count": 12,
   "metadata": {},
   "outputs": [],
   "source": [
    "class Student:\n",
    "    # class variables\n",
    "    student_name = 'Nikki'\n",
    "    student_city = \"Bikaner\"\n",
    "    student_college = \"Gurukul\""
   ]
  },
  {
   "cell_type": "code",
   "execution_count": 13,
   "metadata": {},
   "outputs": [
    {
     "data": {
      "text/plain": [
       "'Nikki'"
      ]
     },
     "execution_count": 13,
     "metadata": {},
     "output_type": "execute_result"
    }
   ],
   "source": [
    "Student.student_name  # accessing the class variables with the help of class name "
   ]
  },
  {
   "cell_type": "code",
   "execution_count": 14,
   "metadata": {},
   "outputs": [
    {
     "data": {
      "text/plain": [
       "'Bikaner'"
      ]
     },
     "execution_count": 14,
     "metadata": {},
     "output_type": "execute_result"
    }
   ],
   "source": [
    "Student.student_city"
   ]
  },
  {
   "cell_type": "code",
   "execution_count": 15,
   "metadata": {},
   "outputs": [],
   "source": [
    "class Demo:\n",
    "    var1 = 20\n",
    "    var2 = 40"
   ]
  },
  {
   "cell_type": "code",
   "execution_count": 16,
   "metadata": {},
   "outputs": [],
   "source": [
    "demo__obj = Demo()"
   ]
  },
  {
   "cell_type": "code",
   "execution_count": 17,
   "metadata": {},
   "outputs": [
    {
     "data": {
      "text/plain": [
       "20"
      ]
     },
     "execution_count": 17,
     "metadata": {},
     "output_type": "execute_result"
    }
   ],
   "source": [
    "demo__obj.var1"
   ]
  },
  {
   "cell_type": "code",
   "execution_count": 18,
   "metadata": {},
   "outputs": [
    {
     "data": {
      "text/plain": [
       "40"
      ]
     },
     "execution_count": 18,
     "metadata": {},
     "output_type": "execute_result"
    }
   ],
   "source": [
    "demo__obj.var2"
   ]
  },
  {
   "cell_type": "code",
   "execution_count": 19,
   "metadata": {},
   "outputs": [
    {
     "data": {
      "text/plain": [
       "20"
      ]
     },
     "execution_count": 19,
     "metadata": {},
     "output_type": "execute_result"
    }
   ],
   "source": [
    "Demo.var1"
   ]
  },
  {
   "cell_type": "code",
   "execution_count": 20,
   "metadata": {},
   "outputs": [
    {
     "data": {
      "text/plain": [
       "40"
      ]
     },
     "execution_count": 20,
     "metadata": {},
     "output_type": "execute_result"
    }
   ],
   "source": [
    "Demo.var2"
   ]
  },
  {
   "cell_type": "code",
   "execution_count": 21,
   "metadata": {},
   "outputs": [],
   "source": [
    "demo__obj.var1 = 50"
   ]
  },
  {
   "cell_type": "code",
   "execution_count": 22,
   "metadata": {},
   "outputs": [
    {
     "data": {
      "text/plain": [
       "50"
      ]
     },
     "execution_count": 22,
     "metadata": {},
     "output_type": "execute_result"
    }
   ],
   "source": [
    "demo__obj.var1"
   ]
  },
  {
   "cell_type": "code",
   "execution_count": 23,
   "metadata": {},
   "outputs": [],
   "source": [
    "# to create or initialize an instance variables we need a constructor (object variables)\n",
    "class Student:\n",
    "    # class variables\n",
    "    college = \"IET Lucknow\"\n",
    "    college_city = \"Lucknow\"\n",
    "    def __init__(self): # no need to call it, automatically creating object\n",
    "        # instance variables\n",
    "        self.student_name = \"Nikita Jangid\"\n",
    "        self.student_city = \"Bikaner\"\n",
    "        self.student_subjects = ['math','physics','chemistry','science']\n",
    "        print(\"constructor is executed\")\n"
   ]
  },
  {
   "cell_type": "code",
   "execution_count": 24,
   "metadata": {},
   "outputs": [
    {
     "name": "stdout",
     "output_type": "stream",
     "text": [
      "constructor is executed\n"
     ]
    }
   ],
   "source": [
    "stu_obj = Student()  # constructor"
   ]
  },
  {
   "cell_type": "code",
   "execution_count": 25,
   "metadata": {},
   "outputs": [
    {
     "data": {
      "text/plain": [
       "'Nikita Jangid'"
      ]
     },
     "execution_count": 25,
     "metadata": {},
     "output_type": "execute_result"
    }
   ],
   "source": [
    "stu_obj.student_name"
   ]
  },
  {
   "cell_type": "code",
   "execution_count": 26,
   "metadata": {},
   "outputs": [
    {
     "data": {
      "text/plain": [
       "'Bikaner'"
      ]
     },
     "execution_count": 26,
     "metadata": {},
     "output_type": "execute_result"
    }
   ],
   "source": [
    "stu_obj.student_city"
   ]
  },
  {
   "cell_type": "code",
   "execution_count": 27,
   "metadata": {},
   "outputs": [
    {
     "data": {
      "text/plain": [
       "['math', 'physics', 'chemistry', 'science']"
      ]
     },
     "execution_count": 27,
     "metadata": {},
     "output_type": "execute_result"
    }
   ],
   "source": [
    "stu_obj.student_subjects"
   ]
  },
  {
   "cell_type": "code",
   "execution_count": 7,
   "metadata": {},
   "outputs": [],
   "source": [
    "class Mobile:\n",
    "    def __init__(self):\n",
    "        self.mobile_brand = \"iphone\"\n",
    "        self.mobile_price = 134000\n",
    "        self.mobile_year = 2024\n",
    "        print(\"constructor is executed\")"
   ]
  },
  {
   "cell_type": "code",
   "execution_count": 8,
   "metadata": {},
   "outputs": [
    {
     "name": "stdout",
     "output_type": "stream",
     "text": [
      "constructor is executed\n"
     ]
    }
   ],
   "source": [
    "mob_obj = Mobile()"
   ]
  },
  {
   "cell_type": "code",
   "execution_count": 5,
   "metadata": {},
   "outputs": [
    {
     "data": {
      "text/plain": [
       "'iphone'"
      ]
     },
     "execution_count": 5,
     "metadata": {},
     "output_type": "execute_result"
    }
   ],
   "source": [
    "mob_obj.mobile_brand"
   ]
  },
  {
   "cell_type": "code",
   "execution_count": 9,
   "metadata": {},
   "outputs": [
    {
     "data": {
      "text/plain": [
       "134000"
      ]
     },
     "execution_count": 9,
     "metadata": {},
     "output_type": "execute_result"
    }
   ],
   "source": [
    "mob_obj.mobile_price"
   ]
  },
  {
   "cell_type": "code",
   "execution_count": 10,
   "metadata": {},
   "outputs": [
    {
     "data": {
      "text/plain": [
       "2024"
      ]
     },
     "execution_count": 10,
     "metadata": {},
     "output_type": "execute_result"
    }
   ],
   "source": [
    "mob_obj.mobile_year"
   ]
  },
  {
   "cell_type": "code",
   "execution_count": 11,
   "metadata": {},
   "outputs": [],
   "source": [
    "class Mobile:\n",
    "    def __init__(self, brand, price, year):\n",
    "        self.mobile_brand = brand\n",
    "        self.mobile_price = price\n",
    "        self.mobile_year = year\n",
    "        print(\"constructor is executed\")"
   ]
  },
  {
   "cell_type": "code",
   "execution_count": 14,
   "metadata": {},
   "outputs": [
    {
     "name": "stdout",
     "output_type": "stream",
     "text": [
      "constructor is executed\n",
      "constructor is executed\n"
     ]
    }
   ],
   "source": [
    "mob_obj1 = Mobile(brand = \"iphone\", price = 134000, year = 2024)\n",
    "mob_obj2 = Mobile(brand = \"one_plus\", price = 50000, year = 2024)"
   ]
  },
  {
   "cell_type": "code",
   "execution_count": 15,
   "metadata": {},
   "outputs": [
    {
     "data": {
      "text/plain": [
       "'iphone'"
      ]
     },
     "execution_count": 15,
     "metadata": {},
     "output_type": "execute_result"
    }
   ],
   "source": [
    "mob_obj1.mobile_brand"
   ]
  },
  {
   "cell_type": "code",
   "execution_count": 16,
   "metadata": {},
   "outputs": [
    {
     "data": {
      "text/plain": [
       "'one_plus'"
      ]
     },
     "execution_count": 16,
     "metadata": {},
     "output_type": "execute_result"
    }
   ],
   "source": [
    "mob_obj2.mobile_brand"
   ]
  },
  {
   "cell_type": "code",
   "execution_count": null,
   "metadata": {},
   "outputs": [],
   "source": [
    "# methods in oops:\n",
    "#   1. instance method\n",
    "#   2. class method\n",
    "#   3. static method"
   ]
  },
  {
   "cell_type": "code",
   "execution_count": 33,
   "metadata": {},
   "outputs": [],
   "source": [
    "class Practice:\n",
    "    def __init__(self, numbers):\n",
    "        self.name = \"Nikki\"\n",
    "        self.int_numbers = numbers\n",
    "        self.int_numbers2 = [2,4,5,6,7,8,9]\n",
    "\n",
    "    # instance methods ==> instance properties(variables)\n",
    "    def total_sum(self):\n",
    "        temp = 0 \n",
    "        for item in self.int_numbers:\n",
    "            temp += item\n",
    "        return temp\n",
    "    \n",
    "    def square(self):\n",
    "        square_ls = []\n",
    "        for item in self.int_numbers2 :\n",
    "            square_ls.append(item ** 2)\n",
    "        return square_ls\n",
    "    \n",
    "    def display(self):\n",
    "        self.total_sum()\n",
    "        print(\"hello world\")\n",
    "\n",
    "    def display2(self):\n",
    "        self.square()\n",
    "\n",
    "obj = Practice(numbers= [25,45,84,96,47,16,45,35,26,42,93])"
   ]
  },
  {
   "cell_type": "code",
   "execution_count": 43,
   "metadata": {},
   "outputs": [],
   "source": [
    "class Practice:\n",
    "    # class variable\n",
    "    student_names = ['rohit','mohit','kunal','shrinivas','sahil']\n",
    "    def __init__(self, numbers):\n",
    "        # instance variable\n",
    "        self.name = \"Nikki\"\n",
    "        self.int_numbers = numbers\n",
    "        self.int_numbers2 = [2,4,5,6,7,8,9]\n",
    "\n",
    "    # class methods\n",
    "    @classmethod  #decorator\n",
    "    def check_student_name(cls,name):\n",
    "        if name in cls.student_names:\n",
    "            print(f\"yes {name} is present in the list.\")\n",
    "        else:\n",
    "            print(f\"{name} is not present in the list.\")\n",
    "\n",
    "obj = Practice(numbers= [25,45,84,96,47,16,45,35,26,42,93])"
   ]
  },
  {
   "cell_type": "code",
   "execution_count": 44,
   "metadata": {},
   "outputs": [
    {
     "name": "stdout",
     "output_type": "stream",
     "text": [
      "yes rohit is present in the list.\n"
     ]
    }
   ],
   "source": [
    "obj.check_student_name(name='rohit')"
   ]
  },
  {
   "cell_type": "code",
   "execution_count": 45,
   "metadata": {},
   "outputs": [
    {
     "name": "stdout",
     "output_type": "stream",
     "text": [
      "anurag is not present in the list.\n"
     ]
    }
   ],
   "source": [
    "obj.check_student_name(name='anurag')"
   ]
  },
  {
   "cell_type": "code",
   "execution_count": 56,
   "metadata": {},
   "outputs": [],
   "source": [
    "class Practice:\n",
    "    # class variable\n",
    "    student_names = ['rohit','mohit','kunal','shrinivas','sahil']\n",
    "    @classmethod\n",
    "    def add_student(cls,name):\n",
    "        cls.student_names.append(name)\n",
    "        print(f\"Your student : {name} is inserted\")\n",
    "    @classmethod\n",
    "    def remove_student(cls,name):\n",
    "        cls.student_names.remove(name)\n",
    "        print(f\"Your student : {name} is remove\")\n",
    "    @classmethod\n",
    "    def display(cls):\n",
    "        print(cls.student_names)\n",
    "    \n"
   ]
  },
  {
   "cell_type": "code",
   "execution_count": 52,
   "metadata": {},
   "outputs": [
    {
     "name": "stdout",
     "output_type": "stream",
     "text": [
      "Your student : anurag is inserted\n",
      "['rohit', 'mohit', 'kunal', 'shrinivas', 'sahil', 'anurag', 'anurag']\n"
     ]
    }
   ],
   "source": [
    "obj = Practice()\n",
    "obj.add_student(name='anurag')\n",
    "obj.display()"
   ]
  },
  {
   "cell_type": "code",
   "execution_count": 59,
   "metadata": {},
   "outputs": [
    {
     "name": "stdout",
     "output_type": "stream",
     "text": [
      "Your student : kunal is remove\n",
      "['rohit', 'mohit', 'shrinivas', 'sahil']\n"
     ]
    }
   ],
   "source": [
    "obj = Practice()\n",
    "obj.remove_student(name='kunal')\n",
    "obj.display()"
   ]
  },
  {
   "cell_type": "code",
   "execution_count": 62,
   "metadata": {},
   "outputs": [],
   "source": [
    "class Practice:\n",
    "    # class variable\n",
    "    student_names = ['rohit','mohit','kunal','shrinivas','sahil']\n",
    "    @classmethod\n",
    "    def add_student(cls,name):\n",
    "        cls.student_names.append(name)\n",
    "        print(f\"Your student : {name} is inserted\")\n",
    "    @classmethod\n",
    "    def remove_student(cls,name):\n",
    "        cls.student_names.remove(name)\n",
    "        print(f\"Your student : {name} is remove\")\n",
    "    @classmethod\n",
    "    def display(cls):\n",
    "        print(cls.student_names)\n",
    "    \n",
    "    @staticmethod\n",
    "    def total_no_of_student():\n",
    "        ls = ['A','B','C','D']\n",
    "        print(len(ls))"
   ]
  },
  {
   "cell_type": "code",
   "execution_count": 63,
   "metadata": {},
   "outputs": [
    {
     "name": "stdout",
     "output_type": "stream",
     "text": [
      "['rohit', 'mohit', 'kunal', 'shrinivas', 'sahil']\n",
      "4\n"
     ]
    }
   ],
   "source": [
    "obj = Practice()\n",
    "obj.display()\n",
    "obj.total_no_of_student()"
   ]
  },
  {
   "cell_type": "code",
   "execution_count": 34,
   "metadata": {},
   "outputs": [
    {
     "name": "stdout",
     "output_type": "stream",
     "text": [
      "hello world\n"
     ]
    }
   ],
   "source": [
    "obj.display()"
   ]
  },
  {
   "cell_type": "code",
   "execution_count": 18,
   "metadata": {},
   "outputs": [
    {
     "data": {
      "text/plain": [
       "554"
      ]
     },
     "execution_count": 18,
     "metadata": {},
     "output_type": "execute_result"
    }
   ],
   "source": [
    "obj.total_sum()"
   ]
  },
  {
   "cell_type": "code",
   "execution_count": 31,
   "metadata": {},
   "outputs": [
    {
     "data": {
      "text/plain": [
       "[4, 16, 25, 36, 49, 64, 81]"
      ]
     },
     "execution_count": 31,
     "metadata": {},
     "output_type": "execute_result"
    }
   ],
   "source": [
    "obj.square()"
   ]
  },
  {
   "cell_type": "code",
   "execution_count": null,
   "metadata": {},
   "outputs": [],
   "source": [
    "1. create a method to find the square of only even items.\n",
    "2. create a method to find the average int_numbers only for even.\n",
    "3. create a method to find the minimum item from int_numbers."
   ]
  },
  {
   "cell_type": "code",
   "execution_count": 1,
   "metadata": {},
   "outputs": [],
   "source": [
    "class Practice2:\n",
    "    def __init__(self,numbers):\n",
    "        self.numbers = numbers\n",
    "\n",
    "    def square_even_num(self):\n",
    "        square_even = []\n",
    "        for num in self.numbers:\n",
    "            if num % 2 == 0:\n",
    "                square_even.append(num ** 2)\n",
    "                print(\"even numbers\")\n",
    "            else:\n",
    "                print(\"not even numbers\")\n",
    "        return square_even\n",
    "    def display(self):\n",
    "        self.square_even_num()\n",
    "    \n",
    "numbers = [4, 16, 25, 36, 49, 64, 81]"
   ]
  },
  {
   "cell_type": "code",
   "execution_count": 4,
   "metadata": {},
   "outputs": [],
   "source": [
    "obj = Practice2(numbers=[4, 16, 25, 36, 49, 64, 81,3])"
   ]
  },
  {
   "cell_type": "code",
   "execution_count": 5,
   "metadata": {},
   "outputs": [
    {
     "name": "stdout",
     "output_type": "stream",
     "text": [
      "even numbers\n",
      "even numbers\n",
      "not even numbers\n",
      "even numbers\n",
      "not even numbers\n",
      "even numbers\n",
      "not even numbers\n",
      "not even numbers\n"
     ]
    },
    {
     "data": {
      "text/plain": [
       "[16, 256, 1296, 4096]"
      ]
     },
     "execution_count": 5,
     "metadata": {},
     "output_type": "execute_result"
    }
   ],
   "source": [
    "obj.square_even_num()"
   ]
  },
  {
   "cell_type": "code",
   "execution_count": 4,
   "metadata": {},
   "outputs": [],
   "source": [
    "class Practice3:\n",
    "    def __init__(self, numbers):\n",
    "        self.numbers = numbers\n",
    "\n",
    "    def average_even_num(self):\n",
    "        average_even = []\n",
    "        for num in self.numbers:\n",
    "            if num % 2 == 0:\n",
    "                average_even.append(num)\n",
    "        average = sum(average_even)/len(average_even)\n",
    "        print(\"your even numbers are : \",average_even)\n",
    "        print(\"Your average for even numbers is : \",average)\n",
    "                \n"
   ]
  },
  {
   "cell_type": "code",
   "execution_count": 5,
   "metadata": {},
   "outputs": [],
   "source": [
    "obj = Practice3(numbers=[4,3,5,6,7,8,9,7,8,56,7])"
   ]
  },
  {
   "cell_type": "code",
   "execution_count": 6,
   "metadata": {},
   "outputs": [
    {
     "name": "stdout",
     "output_type": "stream",
     "text": [
      "your even numbers are :  [4, 6, 8, 8, 56]\n",
      "Your average for even numbers is :  16.4\n"
     ]
    }
   ],
   "source": [
    "obj.average_even_num()"
   ]
  },
  {
   "cell_type": "code",
   "execution_count": 20,
   "metadata": {},
   "outputs": [
    {
     "name": "stdout",
     "output_type": "stream",
     "text": [
      "output1 :  4\n"
     ]
    }
   ],
   "source": [
    "class Practice4:\n",
    "    def __init__(self, numbers):\n",
    "        self.numbers = numbers\n",
    "\n",
    "    def minimum_item(self):\n",
    "        if self.numbers:\n",
    "            return(min(self.numbers))\n",
    "        \n",
    "        else:\n",
    "            return(\"output is executed\")\n",
    "\n",
    "numbers = [4, 16, 25, 36, 49, 64, 81]\n",
    "output = Practice4(numbers)\n",
    "output1 = output.minimum_item()\n",
    "print(\"output1 : \",output1)\n",
    "        "
   ]
  },
  {
   "cell_type": "code",
   "execution_count": 21,
   "metadata": {},
   "outputs": [],
   "source": [
    "obj = Practice4(numbers=[4, 16, 25, 36, 49, 64, 81])"
   ]
  },
  {
   "cell_type": "code",
   "execution_count": 22,
   "metadata": {},
   "outputs": [
    {
     "data": {
      "text/plain": [
       "4"
      ]
     },
     "execution_count": 22,
     "metadata": {},
     "output_type": "execute_result"
    }
   ],
   "source": [
    "obj.minimum_item()"
   ]
  }
 ],
 "metadata": {
  "kernelspec": {
   "display_name": "Python 3",
   "language": "python",
   "name": "python3"
  },
  "language_info": {
   "codemirror_mode": {
    "name": "ipython",
    "version": 3
   },
   "file_extension": ".py",
   "mimetype": "text/x-python",
   "name": "python",
   "nbconvert_exporter": "python",
   "pygments_lexer": "ipython3",
   "version": "3.13.0"
  }
 },
 "nbformat": 4,
 "nbformat_minor": 2
}
